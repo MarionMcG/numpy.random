{
 "cells": [
  {
   "cell_type": "markdown",
   "metadata": {},
   "source": [
    "![](https://cdn-images-1.medium.com/max/1600/1*mc5YIn7jvo5uwuqBOUDw7Q.jpeg)"
   ]
  },
  {
   "cell_type": "markdown",
   "metadata": {},
   "source": [
    "# Investigating numpy.random"
   ]
  },
  {
   "cell_type": "markdown",
   "metadata": {},
   "source": [
    "### Project Intentions\n",
    " - Examine the Simple Random Data functions in the numpy.random package.\n",
    " - Examine functions for permutating and sampling objects, in the numpy.random package\n",
    " - Investigate five probability distributions with reference to functions in the numpy.random package.\n",
    " - Explain the concept of pseudorandom numbers, and the use of seeds in generating pseudorandom data."
   ]
  },
  {
   "cell_type": "markdown",
   "metadata": {},
   "source": [
    "### About NumPy"
   ]
  },
  {
   "cell_type": "markdown",
   "metadata": {},
   "source": [
    "Numpy is a library in Python that can be used to perform operations on large multi-dimensional arrays and matrices.\n",
    "It was created in 2005, when features of Numarray and Numeric, were combined with other modifications. \n",
    "\n",
    "It's an open source package that was designed with the scientific and engineering communities in mind. Numpy's array ordered computing allows for high performance; quickly performing complex calculations, and it is capable of generating large sets of random data very quickly. "
   ]
  },
  {
   "cell_type": "markdown",
   "metadata": {},
   "source": [
    "### Libraries"
   ]
  },
  {
   "cell_type": "code",
   "execution_count": 1,
   "metadata": {
    "scrolled": true
   },
   "outputs": [],
   "source": [
    "import numpy as np #For generating random numbers\n",
    "from numpy.random import RandomState #Import RandomState separately\n",
    "import matplotlib.pyplot as plt #For plotting distributions of data\n",
    "from matplotlib.ticker import PercentFormatter #For probability density functions\n",
    "import seaborn as sns #Mainly used for distplot\n",
    "import pandas as pd #For putting results in DFs\n",
    "import collections\n",
    "%matplotlib inline "
   ]
  },
  {
   "cell_type": "markdown",
   "metadata": {},
   "source": [
    "## Simple Random Data "
   ]
  },
  {
   "cell_type": "markdown",
   "metadata": {},
   "source": [
    "### Generating random numbers in the interval [0, 1) that form a uniform distrubution\n",
    "\n",
    "This distribution is sometimes referred to as the regtangular distribution, and results when every value in the range has equal probability of been chosen. I can use the Rand() function to create an array of random floats in this interval. "
   ]
  },
  {
   "cell_type": "code",
   "execution_count": 2,
   "metadata": {
    "scrolled": true
   },
   "outputs": [
    {
     "name": "stdout",
     "output_type": "stream",
     "text": [
      "[0.40679365 0.17075198]\n"
     ]
    }
   ],
   "source": [
    "# Generating two random numbers using rand()\n",
    "y = np.random.rand(2)\n",
    "print(y)"
   ]
  },
  {
   "cell_type": "markdown",
   "metadata": {},
   "source": [
    "Alternatively, I can call more than one array of a specific size containing random numbers from the standard uniform distribution. "
   ]
  },
  {
   "cell_type": "code",
   "execution_count": 3,
   "metadata": {},
   "outputs": [
    {
     "name": "stdout",
     "output_type": "stream",
     "text": [
      "[[[0.82780975 0.66956662 0.44283581]\n",
      "  [0.73242931 0.04094039 0.87704246]\n",
      "  [0.4140092  0.11675233 0.80754364]]\n",
      "\n",
      " [[0.40349683 0.77791762 0.81326993]\n",
      "  [0.1520321  0.4031734  0.11915078]\n",
      "  [0.16319625 0.99635899 0.92485971]]]\n"
     ]
    }
   ],
   "source": [
    "# Generating two 3x3 arrays \n",
    "y = np.random.rand(2, 3, 3)\n",
    "print(y)"
   ]
  },
  {
   "cell_type": "markdown",
   "metadata": {},
   "source": [
    "In small sets, it is difficult to see that the data is uniformly distributed. In fact in a small set my data may not resemble the uniform distribution, at all. However, if I was to randomly select 10,000 numbers and plot this data in a histogram it would be recognizably a regtanular distribution. "
   ]
  },
  {
   "cell_type": "code",
   "execution_count": 4,
   "metadata": {
    "scrolled": true
   },
   "outputs": [
    {
     "data": {
      "image/png": "[encoded data removed]",
      "text/plain": [
       "<Figure size 432x288 with 1 Axes>"
      ]
     },
     "metadata": {},
     "output_type": "display_data"
    }
   ],
   "source": [
    "# Generating 10,000 random numbers to look at dist\n",
    "y = np.random.rand(10000)\n",
    "plt.hist(y, bins = 15, edgecolor = 'k', color = 'mediumslateblue')\n",
    "plt.show()"
   ]
  },
  {
   "cell_type": "markdown",
   "metadata": {},
   "source": [
    "As you can see from the histogram of 100,000 random generated samples, this function returns a value between 0 and 1, and the distribution is rectangular. \n",
    "\n",
    "**Note: Negative dimensions are not allowed.** So np.random.rand(-10) would give an error, as it's impossible to list a negative number of samples. \n",
    "\n",
    "\n"
   ]
  },
  {
   "cell_type": "markdown",
   "metadata": {},
   "source": [
    "### Generating random variables in an interval"
   ]
  },
  {
   "cell_type": "markdown",
   "metadata": {},
   "source": [
    "There are several functions which can generate a random variable in the interval 0 to 1, not including 1. They include the random(), random_sample(), ranf() and sample() functions. They at first appear to be very similar to the rand() function, but it is not possible to generate multiple arrays of a specific size when using these functions. \n",
    "\n",
    "To generate one random number, you can write the function with no parameters, as the default is 1. "
   ]
  },
  {
   "cell_type": "code",
   "execution_count": 5,
   "metadata": {},
   "outputs": [
    {
     "data": {
      "text/plain": [
       "0.9277031034653191"
      ]
     },
     "execution_count": 5,
     "metadata": {},
     "output_type": "execute_result"
    }
   ],
   "source": [
    "np.random.sample()"
   ]
  },
  {
   "cell_type": "markdown",
   "metadata": {},
   "source": [
    "If we were to generate 1000 numbers, we can see the the distribution of values is uniform.\n"
   ]
  },
  {
   "cell_type": "code",
   "execution_count": 6,
   "metadata": {},
   "outputs": [
    {
     "data": {
      "image/png": "[encoded data removed]",
      "text/plain": [
       "<Figure size 432x288 with 1 Axes>"
      ]
     },
     "metadata": {},
     "output_type": "display_data"
    }
   ],
   "source": [
    "rand_f = np.random.ranf(1000)\n",
    "plt.hist(rand_f, color = 'lightsalmon', edgecolor = 'k')\n",
    "plt.show()"
   ]
  },
  {
   "cell_type": "markdown",
   "metadata": {},
   "source": [
    "We can take an array of random floats from 0 to 1, and then use that to generate values across a different interval. \n"
   ]
  },
  {
   "cell_type": "code",
   "execution_count": 7,
   "metadata": {},
   "outputs": [],
   "source": [
    "#Generating 10 random variables between 0 and 1\n",
    "rand_f = np.random.random(10)"
   ]
  },
  {
   "cell_type": "markdown",
   "metadata": {},
   "source": [
    "We can multiply all values in the array by 10, to get an array of floats from 0 to 10. "
   ]
  },
  {
   "cell_type": "code",
   "execution_count": 8,
   "metadata": {},
   "outputs": [
    {
     "data": {
      "text/plain": [
       "array([3.09538601, 2.26892354, 3.22636928, 8.50056798, 0.29694467,\n",
       "       7.6687264 , 4.28172332, 6.01346669, 4.61980002, 1.75266143])"
      ]
     },
     "execution_count": 8,
     "metadata": {},
     "output_type": "execute_result"
    }
   ],
   "source": [
    "10*(rand_f) "
   ]
  },
  {
   "cell_type": "markdown",
   "metadata": {},
   "source": [
    "We can then subtract 10 from every value in array, and get a set of values from - 10 to 0. "
   ]
  },
  {
   "cell_type": "code",
   "execution_count": 9,
   "metadata": {},
   "outputs": [
    {
     "data": {
      "text/plain": [
       "array([-6.90461399, -7.73107646, -6.77363072, -1.49943202, -9.70305533,\n",
       "       -2.3312736 , -5.71827668, -3.98653331, -5.38019998, -8.24733857])"
      ]
     },
     "execution_count": 9,
     "metadata": {},
     "output_type": "execute_result"
    }
   ],
   "source": [
    "10*(rand_f) - 10"
   ]
  },
  {
   "cell_type": "markdown",
   "metadata": {},
   "source": [
    "And if we wanted an array from - 10 to 10, multiply a set of randomy generated floats by 20 and subtract 10. "
   ]
  },
  {
   "cell_type": "code",
   "execution_count": 10,
   "metadata": {
    "scrolled": true
   },
   "outputs": [
    {
     "data": {
      "text/plain": [
       "array([-3.80922798, -5.46215292, -3.54726144,  7.00113596, -9.40611067,\n",
       "        5.3374528 , -1.43655335,  2.02693337, -0.76039997, -6.49467714])"
      ]
     },
     "execution_count": 10,
     "metadata": {},
     "output_type": "execute_result"
    }
   ],
   "source": [
    "20*(rand_f) - 10 "
   ]
  },
  {
   "cell_type": "markdown",
   "metadata": {},
   "source": [
    "Similar strategies can be used to modify the interval of values rand() returns."
   ]
  },
  {
   "cell_type": "markdown",
   "metadata": {},
   "source": [
    "### Generating random integers that fit the Uniform Distribution.\n",
    "\n",
    "When using Randint(), you set a low to high interval, from which randomly generated numbers are chosen. The low value is included in integers which may be returned but the high value in not. The third parameter is size; the number of random integers you want from within that range. If you don't include size, then only one random integer is generated. \n"
   ]
  },
  {
   "cell_type": "markdown",
   "metadata": {},
   "source": [
    "Let's say I want to generate a random number between 2 and 100, excluding 100."
   ]
  },
  {
   "cell_type": "code",
   "execution_count": 11,
   "metadata": {},
   "outputs": [
    {
     "data": {
      "text/plain": [
       "55"
      ]
     },
     "execution_count": 11,
     "metadata": {},
     "output_type": "execute_result"
    }
   ],
   "source": [
    "np.random.randint(2, 100)"
   ]
  },
  {
   "cell_type": "markdown",
   "metadata": {},
   "source": [
    "**Note:** This function will only work when the smallest number comes first. For example if you were to call np.rand.randint(100, 2), you would receive an error. "
   ]
  },
  {
   "cell_type": "markdown",
   "metadata": {},
   "source": [
    "Below a set of 2000 random integers are been generated. \n",
    "\n",
    "As I have only set one value, this function takes that number to be the high value, and generates numbers in the range 0 to high. Here my high is 30, so my generated set, contains 2000 numbers between 0 and 29 inclusive."
   ]
  },
  {
   "cell_type": "code",
   "execution_count": 12,
   "metadata": {},
   "outputs": [],
   "source": [
    "rand_int= np.random.randint(30, size = 2000)"
   ]
  },
  {
   "cell_type": "markdown",
   "metadata": {},
   "source": [
    "Now when representing this data graphically, I must take into account the type of data I have genereated. A histogram would not be an appropriate representation here. As I'm generating integers, all of my results are whole numbers between 0 and 29 inclusive. So my data will be discrete, and a bar chart would be the most appropriate graph. "
   ]
  },
  {
   "cell_type": "code",
   "execution_count": 13,
   "metadata": {},
   "outputs": [
    {
     "data": {
      "image/png": "[encoded data removed]",
      "text/plain": [
       "<Figure size 432x288 with 1 Axes>"
      ]
     },
     "metadata": {},
     "output_type": "display_data"
    }
   ],
   "source": [
    "count = collections.Counter(rand_int).values()\n",
    "x = np.arange(30)\n",
    "plt.bar(x, count, color = 'mediumseagreen')\n",
    "plt.show()\n"
   ]
  },
  {
   "cell_type": "markdown",
   "metadata": {},
   "source": [
    "### Generating random numbers from the Standard Normal Distribution\n",
    "\n",
    "The Standard Normal Distribution has mean 0 and standard deviation 1. The randn() function can be used to generated random numbers and arrays, and almost all of the data generated will be between - 3 and +3. The Normal Distribution is often referred to as the bell curve, because of the shape of its distribution\n",
    "\n",
    "Let's use this function to randomly generate 1000 numbers and see what normally distributed data looks like. "
   ]
  },
  {
   "cell_type": "code",
   "execution_count": 14,
   "metadata": {},
   "outputs": [],
   "source": [
    "#Generating 1000 random numbers\n",
    "x = np.random.randn(1000)"
   ]
  },
  {
   "cell_type": "code",
   "execution_count": 15,
   "metadata": {},
   "outputs": [
    {
     "data": {
      "image/png": "[encoded data removed]",
      "text/plain": [
       "<Figure size 432x288 with 1 Axes>"
      ]
     },
     "metadata": {},
     "output_type": "display_data"
    }
   ],
   "source": [
    "#Plotting the distribution of x in a histogram\n",
    "plt.hist(x, edgecolor = 'k', color = 'mediumslateblue')\n",
    "plt.show()"
   ]
  },
  {
   "cell_type": "markdown",
   "metadata": {},
   "source": [
    "As expected, all of my values are between -3 and 3, and most of my values are between - 2 and 2. This is due to the Empirical Rule, which we will encounter in more detail later in this notebook. \n",
    "\n",
    "Arrays generated using this function can also be modified to generate an array of normally distributed random variables across a different inteval. For example if I take the sample set x, divide it by 3 and multiply by 100, I will get a range of values from - 100 to 100. "
   ]
  },
  {
   "cell_type": "code",
   "execution_count": 16,
   "metadata": {
    "scrolled": true
   },
   "outputs": [
    {
     "data": {
      "image/png": "[encoded data removed]",
      "text/plain": [
       "<Figure size 432x288 with 1 Axes>"
      ]
     },
     "metadata": {},
     "output_type": "display_data"
    }
   ],
   "source": [
    "x = (x/3)*100\n",
    "#Looking specifically at the density (percentage frequency)\n",
    "sns.distplot(x,  kde=True, \n",
    "             color = 'b', \n",
    "             hist_kws={'edgecolor':'black'},\n",
    "             kde_kws={'linewidth': 4});\n"
   ]
  },
  {
   "cell_type": "markdown",
   "metadata": {},
   "source": [
    "### Choosing a random sample"
   ]
  },
  {
   "cell_type": "markdown",
   "metadata": {},
   "source": [
    "The choice( ) function produces a random sample, given a one-dimensional array. It can be used to choose numerical or categorical samples, and it's default is to replace the previous item, before choosing the next. \n",
    "\n",
    "If two members need to be chosen from a group of 7, for example. A 1-D array with categorical data in the form of names can be passed through this function. In this case, it's important that there is no replacement. So I can set replace to be False to avoid choosing the same person twice."
   ]
  },
  {
   "cell_type": "code",
   "execution_count": 17,
   "metadata": {},
   "outputs": [
    {
     "name": "stdout",
     "output_type": "stream",
     "text": [
      "['Yousef' 'Kayleigh']\n"
     ]
    }
   ],
   "source": [
    "categories =['Marina', 'Joseph', 'Alan', 'Fionn', 'Kayleigh', 'Yousef', 'Mauminah']\n",
    "print(np.random.choice(categories, 2, replace = False))\n"
   ]
  },
  {
   "cell_type": "markdown",
   "metadata": {},
   "source": [
    "The same function can be used to select numerical variables from an array. \n",
    "\n",
    "If I were to generate 100 random integers from 1 to 9 inclusive, I could use this function to randomly select 5 variables. "
   ]
  },
  {
   "cell_type": "code",
   "execution_count": 18,
   "metadata": {},
   "outputs": [
    {
     "name": "stdout",
     "output_type": "stream",
     "text": [
      "[6 9 4 6 2]\n"
     ]
    }
   ],
   "source": [
    "numerical = np.random.randint(10, size = 1000)\n",
    "print(np.random.choice(numerical, 5))"
   ]
  },
  {
   "cell_type": "markdown",
   "metadata": {},
   "source": [
    "As the default replace parameter is True, it is possible for a random integer to appear more than once in my outputted array."
   ]
  },
  {
   "cell_type": "markdown",
   "metadata": {},
   "source": [
    "## Permutations"
   ]
  },
  {
   "cell_type": "markdown",
   "metadata": {},
   "source": [
    "There are two functions which permutate the elements in a given set; np.random.shuffle() and np.random.permutation()."
   ]
  },
  {
   "cell_type": "markdown",
   "metadata": {},
   "source": [
    "### Shuffle ()"
   ]
  },
  {
   "cell_type": "markdown",
   "metadata": {},
   "source": [
    "Shuffle() modifies the array or list. So given a set containing the range of values from 0 to 9 inclusive. Shuffle will change the order of elements in that set. Now everytime you call that set in your code, you will be calling the set of shuffled elements. The documentation refers to this as shuffling items in place. "
   ]
  },
  {
   "cell_type": "code",
   "execution_count": 19,
   "metadata": {},
   "outputs": [
    {
     "name": "stdout",
     "output_type": "stream",
     "text": [
      "A Range:   [0 1 2 3 4 5 6 7 8 9]\n"
     ]
    }
   ],
   "source": [
    "#Generate and print range 0 to 9 \n",
    "a_range = np.arange(10)\n",
    "print('A Range:  ', a_range)"
   ]
  },
  {
   "cell_type": "code",
   "execution_count": 20,
   "metadata": {},
   "outputs": [
    {
     "name": "stdout",
     "output_type": "stream",
     "text": [
      "Shuffled:  [2 8 3 7 4 9 6 0 5 1]\n"
     ]
    }
   ],
   "source": [
    "#Shuffle the range\n",
    "np.random.shuffle(a_range)\n",
    "\n",
    "#Print modified range\n",
    "print('Shuffled: ', a_range)"
   ]
  },
  {
   "cell_type": "markdown",
   "metadata": {},
   "source": [
    "Given multi-dimensional arrays, shuffle() works in a similar way. For example, if there is an array containing four 2x3 arrays, this function will modify the order in which the four arrays appear, but the content of each 2x3 array remains unchanged. So the elements in each row and column of the array remain the same."
   ]
  },
  {
   "cell_type": "code",
   "execution_count": 21,
   "metadata": {},
   "outputs": [
    {
     "name": "stdout",
     "output_type": "stream",
     "text": [
      "Array: \n",
      "[[[14. 21. 67.]\n",
      "  [70. 32. 55.]]\n",
      "\n",
      " [[53. 28. 53.]\n",
      "  [50. 47. 63.]]\n",
      "\n",
      " [[ 9. 63. 64.]\n",
      "  [58. 17. 51.]]\n",
      "\n",
      " [[23. 39. 32.]\n",
      "  [68. 61. 41.]]]\n"
     ]
    }
   ],
   "source": [
    "# Generating 3 random arrays of positive integers\n",
    "rand_int = np.random.randint(100)\n",
    "a = np.around(np.random.rand(4, 2, 3)*rand_int)\n",
    "print('Array: ')\n",
    "print(a)"
   ]
  },
  {
   "cell_type": "code",
   "execution_count": 22,
   "metadata": {},
   "outputs": [
    {
     "name": "stdout",
     "output_type": "stream",
     "text": [
      "Shuffled: \n",
      "[[[23. 39. 32.]\n",
      "  [68. 61. 41.]]\n",
      "\n",
      " [[ 9. 63. 64.]\n",
      "  [58. 17. 51.]]\n",
      "\n",
      " [[53. 28. 53.]\n",
      "  [50. 47. 63.]]\n",
      "\n",
      " [[14. 21. 67.]\n",
      "  [70. 32. 55.]]]\n"
     ]
    }
   ],
   "source": [
    "print('Shuffled: ')\n",
    "np.random.shuffle(a)\n",
    "print(a)"
   ]
  },
  {
   "cell_type": "markdown",
   "metadata": {},
   "source": [
    "Given a list, the output will remain a list. "
   ]
  },
  {
   "cell_type": "code",
   "execution_count": 23,
   "metadata": {},
   "outputs": [
    {
     "data": {
      "text/plain": [
       "[5, 3, 6, 4, 7, 9, 2, 0, 1, 8]"
      ]
     },
     "execution_count": 23,
     "metadata": {},
     "output_type": "execute_result"
    }
   ],
   "source": [
    "#Generate a range and set this as a list\n",
    "a_list = np.arange(10).tolist()\n",
    "\n",
    "#Shuffle\n",
    "np.random.shuffle(a_list)\n",
    "a_list"
   ]
  },
  {
   "cell_type": "markdown",
   "metadata": {},
   "source": [
    "### Permutation()"
   ]
  },
  {
   "cell_type": "markdown",
   "metadata": {},
   "source": [
    "Permutation() makes a copy of the inputted array or list. It's output is the shuffled range of elements in the form of an array. This function makes no changes to the original set.  "
   ]
  },
  {
   "cell_type": "code",
   "execution_count": 24,
   "metadata": {},
   "outputs": [
    {
     "name": "stdout",
     "output_type": "stream",
     "text": [
      "Permutation:  [6 3 7 5 9 0 1 2 8 4]\n"
     ]
    }
   ],
   "source": [
    "print('Permutation: ', np.random.permutation(a_range))"
   ]
  },
  {
   "cell_type": "markdown",
   "metadata": {},
   "source": [
    "If I want to permutate or shuffle all the positive integers in a range from 0 to some number (n), I can call permutation() with (n + 1) as a parameter. So if I was to permutate the numbers 0 to 9, I could also use this method."
   ]
  },
  {
   "cell_type": "code",
   "execution_count": 25,
   "metadata": {},
   "outputs": [
    {
     "data": {
      "text/plain": [
       "array([8, 4, 9, 0, 6, 2, 7, 1, 3, 5])"
      ]
     },
     "execution_count": 25,
     "metadata": {},
     "output_type": "execute_result"
    }
   ],
   "source": [
    "np.random.permutation(10)"
   ]
  },
  {
   "cell_type": "markdown",
   "metadata": {},
   "source": [
    "When I have a multi-dimensional array, permutations() works in the same way as shuffle(). Let's look at four 2x3 arrays again."
   ]
  },
  {
   "cell_type": "code",
   "execution_count": 26,
   "metadata": {},
   "outputs": [
    {
     "name": "stdout",
     "output_type": "stream",
     "text": [
      "Array: \n",
      "[[[62. 26. 30.]\n",
      "  [34. 53.  6.]]\n",
      "\n",
      " [[52. 50. 20.]\n",
      "  [17. 51.  3.]]\n",
      "\n",
      " [[40. 41.  9.]\n",
      "  [ 3. 54. 66.]]\n",
      "\n",
      " [[ 3. 48. 11.]\n",
      "  [49. 63. 49.]]]\n"
     ]
    }
   ],
   "source": [
    "# Generating 4 random arrays of positive integers\n",
    "rand_int = np.random.randint(100)\n",
    "a = np.around(np.random.rand(4, 2, 3)*rand_int)\n",
    "print('Array: ')\n",
    "print(a)"
   ]
  },
  {
   "cell_type": "markdown",
   "metadata": {},
   "source": [
    "Permutation() will shuffle the three arrays, but rows and columns within each array will remain unshuffled."
   ]
  },
  {
   "cell_type": "code",
   "execution_count": 27,
   "metadata": {},
   "outputs": [
    {
     "name": "stdout",
     "output_type": "stream",
     "text": [
      "Permuation: \n",
      "[[[40. 41.  9.]\n",
      "  [ 3. 54. 66.]]\n",
      "\n",
      " [[ 3. 48. 11.]\n",
      "  [49. 63. 49.]]\n",
      "\n",
      " [[52. 50. 20.]\n",
      "  [17. 51.  3.]]\n",
      "\n",
      " [[62. 26. 30.]\n",
      "  [34. 53.  6.]]]\n"
     ]
    }
   ],
   "source": [
    "#Permutates the arrays, but keeps the rows/columns in each array the same\n",
    "print('Permuation: ')\n",
    "print(np.random.permutation(a))"
   ]
  },
  {
   "cell_type": "markdown",
   "metadata": {},
   "source": [
    "Given a list, permutations() will always output an array. As shown here;"
   ]
  },
  {
   "cell_type": "code",
   "execution_count": 28,
   "metadata": {},
   "outputs": [
    {
     "data": {
      "text/plain": [
       "array([0, 6, 8, 5, 2, 1, 4, 9, 7, 3])"
      ]
     },
     "execution_count": 28,
     "metadata": {},
     "output_type": "execute_result"
    }
   ],
   "source": [
    "np.random.permutation(a_list)"
   ]
  },
  {
   "cell_type": "markdown",
   "metadata": {},
   "source": [
    "## Distributions"
   ]
  },
  {
   "cell_type": "markdown",
   "metadata": {},
   "source": [
    "The distribution refers to the spread of data in a set. The NumPy documentation also refers to the Probability Density Functions of these distributions. Probability density functions show the likelihood of possible outcomes in an experiment. So for every random variable $x$, the function shows the likelihood of $x$ occuring, whereas a histogram shows the frequency of $x$ in an experiment.\n",
    "\n",
    "In examining five distributions contained in the NumPy.random package, we will look at how to use these functions but also how they can be applied to modelling the probability of events."
   ]
  },
  {
   "cell_type": "markdown",
   "metadata": {},
   "source": [
    "### Uniform Distribution"
   ]
  },
  {
   "cell_type": "markdown",
   "metadata": {},
   "source": [
    "**Discrete example:** The best known probability experiment that provides us with a Uniform Distribution involves rolling a fair die. Each outcome is equally likely and our results will be a discrete uniform distribution. Discrete data can only take certain values. In this experiment, we can only roll integers 1 to 6. You could never roll a die and get 2.45 as your result. So to model an experiment where our data is discrete and each outcome is equally likely, I have to use randint(). \n",
    "\n",
    "Now, I will simulate rolling a die 1000 times and see what the distribution of my results looks like. "
   ]
  },
  {
   "cell_type": "code",
   "execution_count": 29,
   "metadata": {},
   "outputs": [
    {
     "data": {
      "image/png": "[encoded data removed]",
      "text/plain": [
       "<Figure size 432x288 with 1 Axes>"
      ]
     },
     "metadata": {},
     "output_type": "display_data"
    }
   ],
   "source": [
    "dice = np.random.randint(1, 7, 1000)\n",
    "count = collections.Counter(dice).values()\n",
    "x = [1, 2, 3, 4, 5, 6]\n",
    "plt.bar(x, count, color = 'mediumslateblue', edgecolor = 'k')\n",
    "plt.show()\n"
   ]
  },
  {
   "cell_type": "markdown",
   "metadata": {},
   "source": [
    "**Uniform( )**, returns a random float, in a low to high interval and this data is continuous as it can have any value in that interval. Similar to the randint() function, your size cannot be a negative dimension. But in contrast to the randint() function, it is not necessary to call the low value first. \n",
    "\n",
    "For example, np.random.uniform(30, 1) and np.random.uniform(1, 30) will both return a value between 1 and 30. "
   ]
  },
  {
   "cell_type": "code",
   "execution_count": 30,
   "metadata": {},
   "outputs": [
    {
     "name": "stdout",
     "output_type": "stream",
     "text": [
      "9.677923867876544\n",
      "21.082733203770104\n"
     ]
    }
   ],
   "source": [
    "t = np.random.uniform(30, 1)\n",
    "print(t)\n",
    "t = np.random.uniform(1,30)\n",
    "print(t)"
   ]
  },
  {
   "cell_type": "markdown",
   "metadata": {},
   "source": [
    "**Continuous Example 1:** Let's say you press the button to call an elevator. The time it takes the elevator to reach your floor is uniformly distributed from 0 to 40 seconds, inclusive. As we're working with time, we know our distribution will be continuous. When the data is continuous and uniform, we can use Uniform( ) to simulate calling the elevator on multiple occasions and recording the length of time it takes to reach our floor. Let's call the elevator 30 times. "
   ]
  },
  {
   "cell_type": "markdown",
   "metadata": {},
   "source": [
    "The default low value is already zero. So to generate 30 numbers from 0 to 40, I only need to set my high value, and specify the size is 30. Uniform() does not include the high values in the interval of variables which can be generated. I have to set my high value equal to 41."
   ]
  },
  {
   "cell_type": "code",
   "execution_count": 31,
   "metadata": {
    "scrolled": true
   },
   "outputs": [
    {
     "name": "stdout",
     "output_type": "stream",
     "text": [
      "[18.51  1.95  2.39 12.21 40.96 23.21 27.33 40.75 22.05 23.28 38.21  8.87\n",
      " 31.94 28.29 13.08  6.76  2.65 11.98  5.2  39.42 39.57 13.26 27.69 19.78\n",
      "  2.46 22.73  2.47 22.89 17.6   8.3 ]\n"
     ]
    }
   ],
   "source": [
    "uni=np.random.uniform(41, size =30)\n",
    "uni=np.around(uni, decimals=2)\n",
    "print(uni)"
   ]
  },
  {
   "cell_type": "code",
   "execution_count": 32,
   "metadata": {},
   "outputs": [
    {
     "data": {
      "image/png": "[encoded data removed]",
      "text/plain": [
       "<Figure size 432x288 with 1 Axes>"
      ]
     },
     "metadata": {},
     "output_type": "display_data"
    }
   ],
   "source": [
    "plt.hist(uni, bins = 15, edgecolor = 'k', color = 'mediumslateblue')\n",
    "plt.show()"
   ]
  },
  {
   "cell_type": "markdown",
   "metadata": {},
   "source": [
    "My data may not appear uniform, as I'm looking at a small sample of only 30 variables."
   ]
  },
  {
   "cell_type": "markdown",
   "metadata": {},
   "source": [
    "#### Comparing Distributions with Different Sample Sizes\n",
    "In probability, it is best to conduct an experiment or a simulation a large number of times to ensure the data is representative. Similarily in statistics, it's important to take a large sample of a population. \n",
    "\n",
    "Below I have generated 20 numbers from the interval 0 to 100, and then 1000 numbers from the same interval. The larger sample size shows a more uniform spread of results, as we'd expect when sampling the uniform distribution. "
   ]
  },
  {
   "cell_type": "code",
   "execution_count": 33,
   "metadata": {},
   "outputs": [],
   "source": [
    "uni_sample=np.random.uniform(0, 100, size=20)"
   ]
  },
  {
   "cell_type": "code",
   "execution_count": 34,
   "metadata": {},
   "outputs": [],
   "source": [
    "uni_sample2=(np.random.uniform(0, 100, size= 1000))"
   ]
  },
  {
   "cell_type": "code",
   "execution_count": 35,
   "metadata": {},
   "outputs": [
    {
     "data": {
      "image/png": "[encoded data removed]",
      "text/plain": [
       "<Figure size 432x288 with 2 Axes>"
      ]
     },
     "metadata": {},
     "output_type": "display_data"
    }
   ],
   "source": [
    "fig = plt.figure()\n",
    "fig.suptitle('Comparing Datasets - 20 uniform samples vs. 1000 uniform samples')\n",
    "\n",
    "ax1 = plt.subplot(2,1,1)\n",
    "ax1.hist(uni_sample, bins = 20, density = True, edgecolor = 'k', color = 'powderblue')\n",
    "\n",
    "ax2 = plt.subplot(2, 1, 2)\n",
    "ax2.hist(uni_sample2, bins = 20, density = True, edgecolor = 'k', color='mediumslateblue')\n",
    "\n",
    "plt.show()"
   ]
  },
  {
   "cell_type": "markdown",
   "metadata": {},
   "source": [
    "### Normal Distribution"
   ]
  },
  {
   "cell_type": "markdown",
   "metadata": {},
   "source": [
    "A Normal Distribution is symmetrical about the mean of the set of data. To generate a set of values which follow the normal distribution, numpy.random provides two different functions; the standard_normal() and normal() functions.\n",
    "\n",
    "Standard_normal() returns a number which fits the standard normal distribution, where the mean is 0 and standard deviation is 1. As the mean and deviation are set by default, the only parameter to be entered is the number of values we want to generate. Here, I have generated a set with 5000 values"
   ]
  },
  {
   "cell_type": "code",
   "execution_count": 36,
   "metadata": {},
   "outputs": [
    {
     "data": {
      "image/png": "[encoded data removed]",
      "text/plain": [
       "<Figure size 432x288 with 1 Axes>"
      ]
     },
     "metadata": {},
     "output_type": "display_data"
    }
   ],
   "source": [
    "st_norm = np.random.standard_normal(5000)\n",
    "plt.hist(st_norm, edgecolor = 'k', color = 'peru')\n",
    "plt.show()"
   ]
  },
  {
   "cell_type": "markdown",
   "metadata": {},
   "source": [
    "To generate a random number that fits a different normal distribution, we need to know both the mean and the standard deviation of that set. Then we can use the np.random.normal() function\n",
    "\n",
    "The Empirical Rule states that, in a normally distributed set, 68% of data is within one standard deviation of the mean, 95% of data is within two standard deviations, and 99.7% of data is found with in three standard deviations of the mean."
   ]
  },
  {
   "cell_type": "markdown",
   "metadata": {},
   "source": [
    "**Example 1:** Human body temperatures are normally distributed with a mean of 36.8&deg;C and a standard deviation from the mean of 0.4&deg;F."
   ]
  },
  {
   "cell_type": "markdown",
   "metadata": {},
   "source": [
    "Let's generate 1000 values, that model the distribution of human body temperatures.  "
   ]
  },
  {
   "cell_type": "code",
   "execution_count": 37,
   "metadata": {},
   "outputs": [],
   "source": [
    "norm= np.random.normal(36.8, 0.4, 1000)"
   ]
  },
  {
   "cell_type": "code",
   "execution_count": 38,
   "metadata": {},
   "outputs": [
    {
     "data": {
      "image/png": "[encoded data removed]",
      "text/plain": [
       "<Figure size 432x288 with 1 Axes>"
      ]
     },
     "metadata": {},
     "output_type": "display_data"
    }
   ],
   "source": [
    "plt.hist(norm, bins=15, edgecolor = 'k', color = 'peru')\n",
    "plt.xlabel('Human Body Temperatures')\n",
    "plt.ylabel('Frequency')\n",
    "plt.show()"
   ]
  },
  {
   "cell_type": "markdown",
   "metadata": {},
   "source": [
    "Above, I have a histogram that models the frequency of my random generated numbers from the normal distribution. As we may want to look at the probability of events occuring, rather than the frequency, I'll plot the density of my data instead. Now the y values are the percentage occurances of values in each interval, and the sum of the bars, or the sum of the area of the bars will equal 1."
   ]
  },
  {
   "cell_type": "code",
   "execution_count": 39,
   "metadata": {
    "scrolled": true
   },
   "outputs": [
    {
     "data": {
      "image/png": "[encoded data removed]",
      "text/plain": [
       "<Figure size 432x288 with 1 Axes>"
      ]
     },
     "metadata": {},
     "output_type": "display_data"
    }
   ],
   "source": [
    "plt.hist(norm, bins=15, density = True, edgecolor = 'k', color = 'peru')\n",
    "plt.xlabel('Human Body Temperatures')\n",
    "plt.ylabel('Percentage')\n",
    "\n",
    "#Set the y axis to be percentages\n",
    "plt.gca().yaxis.set_major_formatter(PercentFormatter(1))\n",
    "\n",
    "plt.show()"
   ]
  },
  {
   "cell_type": "markdown",
   "metadata": {},
   "source": [
    "The distribution of experimental probabilities can also be modelled using the seaborn distplot function."
   ]
  },
  {
   "cell_type": "code",
   "execution_count": 40,
   "metadata": {},
   "outputs": [
    {
     "data": {
      "image/png": "[encoded data removed]",
      "text/plain": [
       "<Figure size 432x288 with 1 Axes>"
      ]
     },
     "metadata": {},
     "output_type": "display_data"
    }
   ],
   "source": [
    "plt.xlabel('Human Body Temperatures')\n",
    "ax = sns.distplot(norm, kde=True, \n",
    "             color = 'peru', \n",
    "             hist_kws={'edgecolor':'black'},\n",
    "             kde_kws={'linewidth': 4})\n",
    "plt.show(ax)"
   ]
  },
  {
   "cell_type": "markdown",
   "metadata": {},
   "source": [
    "Now if I was to randomly take the temperature of one person, I could compare their result to this distribution and use the Empirical Rule to make inferences."
   ]
  },
  {
   "cell_type": "code",
   "execution_count": 41,
   "metadata": {},
   "outputs": [
    {
     "data": {
      "text/plain": [
       "37.45"
      ]
     },
     "execution_count": 41,
     "metadata": {},
     "output_type": "execute_result"
    }
   ],
   "source": [
    "np.random.seed(1)\n",
    "\n",
    "# Generating a random number from the normal dist., with mean 36.8 and st.dev. 0.4\n",
    "norm_x =np.around(np.random.normal(36.8, 0.4), decimals = 2)\n",
    "np.random.RandomState(1)\n",
    "norm_x"
   ]
  },
  {
   "cell_type": "markdown",
   "metadata": {},
   "source": [
    "My random sample has a temperature of 37.45. This seems high but it is still within two standard deviations of the mean and so 14.5% of samples would probably have a temperature between 37.2&deg;C and 37.6&deg;C. "
   ]
  },
  {
   "cell_type": "markdown",
   "metadata": {},
   "source": [
    "### Binomial Distribution"
   ]
  },
  {
   "cell_type": "markdown",
   "metadata": {},
   "source": [
    "The Binomial Distribution in probability is the distribution of successes in  Binomial or Bernoulli trials. \n",
    "\n",
    "In a Bernoulli trial;\n",
    "* There are n independent trials, ie. the outcome of one trial will not affect the outcome of another.\n",
    "* Each trial has only two possible outcomes, ie Heads or Tails, Pass or Fail etc.\n",
    "* The probability of success is the same in each trial, and is denoted with the letter p\n",
    "\n",
    "So the random.binomial() function takes the same parameters and can be used to simulate probability experiments."
   ]
  },
  {
   "cell_type": "markdown",
   "metadata": {},
   "source": [
    "#### Flipping a Coin\n",
    "\n",
    "If you flip a coin you can get either heads or tails, and each has a 50% chance of success. Let's say that I flip a coin 100 times, and I want to get heads. \n",
    "\n",
    "The binomial() function can simulate that experiment. \n",
    "\n",
    "The first parameter is the number of trials, which is 100, as I flip the coin 100 times. The second parameter is the probability of getting Heads, which is 0.5, and the final parameter is the number of times this experiment is run. I am only going to do this once."
   ]
  },
  {
   "cell_type": "code",
   "execution_count": 42,
   "metadata": {
    "scrolled": true
   },
   "outputs": [
    {
     "name": "stdout",
     "output_type": "stream",
     "text": [
      "I got 47 heads, and 53 tails in 100 trials\n"
     ]
    }
   ],
   "source": [
    "heads = np.random.binomial(100, 0.5, 1)\n",
    "print('I got %.0f heads, and %.0f tails in 100 trials' % (sum(heads), 100 - sum(heads)))"
   ]
  },
  {
   "cell_type": "markdown",
   "metadata": {},
   "source": [
    "Now what if I have 30 people all doing the same experiment. \n",
    "\n",
    "30 people each flip a coin 100 times and record their results, then we'd have 3000 flips of a coin. Our experimental probability should be even closer to our expected probability with that many trials. So let's run that simulation and see what we get."
   ]
  },
  {
   "cell_type": "code",
   "execution_count": 43,
   "metadata": {},
   "outputs": [
    {
     "name": "stdout",
     "output_type": "stream",
     "text": [
      "We get 1478 heads, and 1522 tails in 3000 trials\n",
      "Relative Frequency of Heads: 49 %\n",
      "Relative Frequency of Tails: 51 %\n"
     ]
    }
   ],
   "source": [
    "new_heads = np.random.binomial(100, 0.5, 30)\n",
    "print('We get %.0f heads, and %.0f tails in 3000 trials' % (sum(new_heads), 30*100 - sum(new_heads)))\n",
    "prob_heads = sum(new_heads)/3000\n",
    "print('Relative Frequency of Heads: %.0f %%' % (prob_heads*100))\n",
    "print('Relative Frequency of Tails: %.0f %%' % ((1 - prob_heads)*100))"
   ]
  },
  {
   "cell_type": "code",
   "execution_count": 44,
   "metadata": {},
   "outputs": [
    {
     "data": {
      "image/png": "[encoded data removed]",
      "text/plain": [
       "<Figure size 432x288 with 1 Axes>"
      ]
     },
     "metadata": {},
     "output_type": "display_data"
    }
   ],
   "source": [
    "sum_heads = (np.sum(new_heads))\n",
    "sum_tails = (3000 - sum_heads)\n",
    "\n",
    "df = pd.DataFrame({'Outcome':['Heads', 'Tails'], 'Freq':[sum_heads, sum_tails]})\n",
    "ax = df.plot.bar(x = 'Outcome', y = 'Freq', \n",
    "                 legend = None, \n",
    "                 edgecolor = 'k',\n",
    "                 rot = 0,\n",
    "                 color = ('teal', 'mediumseagreen'))"
   ]
  },
  {
   "cell_type": "markdown",
   "metadata": {},
   "source": [
    "#### What does the Binomial Distribution look like?"
   ]
  },
  {
   "cell_type": "markdown",
   "metadata": {},
   "source": [
    "If two people flip a coin 100 times, the distribution of heads will look like this. "
   ]
  },
  {
   "cell_type": "code",
   "execution_count": 45,
   "metadata": {},
   "outputs": [
    {
     "data": {
      "image/png": "[encoded data removed]",
      "text/plain": [
       "<Figure size 432x288 with 1 Axes>"
      ]
     },
     "metadata": {},
     "output_type": "display_data"
    }
   ],
   "source": [
    "y = np.random.binomial(100, 0.5, 2)\n",
    "sns.distplot(y, kde=True, \n",
    "             color = 'mediumseagreen', \n",
    "             hist_kws={'edgecolor':'black'},\n",
    "             kde_kws={'linewidth': 4});"
   ]
  },
  {
   "cell_type": "markdown",
   "metadata": {},
   "source": [
    "If 30 people flip a coin 100 times each, the distribution of heads looks very different."
   ]
  },
  {
   "cell_type": "code",
   "execution_count": 46,
   "metadata": {},
   "outputs": [
    {
     "data": {
      "image/png": "[encoded data removed]",
      "text/plain": [
       "<Figure size 432x288 with 1 Axes>"
      ]
     },
     "metadata": {},
     "output_type": "display_data"
    }
   ],
   "source": [
    "y = np.random.binomial(100, 0.5, 30)\n",
    "sns.distplot(y, kde=True, \n",
    "             color = 'mediumseagreen', \n",
    "             hist_kws={'edgecolor':'black'},\n",
    "             kde_kws={'linewidth': 4});"
   ]
  },
  {
   "cell_type": "markdown",
   "metadata": {},
   "source": [
    "As the number of trials increases my distribution has started to resemble the Normal Distribution. So let's continue this trend and see how close we can get to the normal distribution. If 100000 people were to flip a coin 100 times. "
   ]
  },
  {
   "cell_type": "code",
   "execution_count": 47,
   "metadata": {},
   "outputs": [
    {
     "data": {
      "image/png": "[encoded data removed]",
      "text/plain": [
       "<Figure size 432x288 with 1 Axes>"
      ]
     },
     "metadata": {},
     "output_type": "display_data"
    }
   ],
   "source": [
    "y = np.random.binomial (100, 0.5, 10000)\n",
    "sns.distplot(y, kde=True, \n",
    "             color = 'mediumseagreen', \n",
    "             hist_kws={'edgecolor':'black'},\n",
    "             kde_kws={'linewidth': 4});"
   ]
  },
  {
   "cell_type": "markdown",
   "metadata": {},
   "source": [
    "My data certainly appears to be normally distributed with mean of 50 and almost all values between 45 and 65. When I calculate the summary statistics, I'm getting a mean very close to 50 and standard deviation close to 5 as expected."
   ]
  },
  {
   "cell_type": "code",
   "execution_count": 48,
   "metadata": {},
   "outputs": [
    {
     "data": {
      "text/plain": [
       "50.0455"
      ]
     },
     "execution_count": 48,
     "metadata": {},
     "output_type": "execute_result"
    }
   ],
   "source": [
    "np.mean(y)"
   ]
  },
  {
   "cell_type": "code",
   "execution_count": 49,
   "metadata": {},
   "outputs": [
    {
     "data": {
      "text/plain": [
       "5.00162271168068"
      ]
     },
     "execution_count": 49,
     "metadata": {},
     "output_type": "execute_result"
    }
   ],
   "source": [
    "np.std(y)"
   ]
  },
  {
   "cell_type": "markdown",
   "metadata": {},
   "source": [
    "In fact, the binomial distribution can be approximated by a normal distribution for any fixed probability, as the number of trials is taken to infinity."
   ]
  },
  {
   "cell_type": "markdown",
   "metadata": {},
   "source": [
    "#### Relationship to the Poisson Distribution"
   ]
  },
  {
   "cell_type": "markdown",
   "metadata": {},
   "source": [
    "The binomial distribution resembles a different distribution when the number of trials approaches infinity and the probability is very small."
   ]
  },
  {
   "cell_type": "markdown",
   "metadata": {},
   "source": [
    "**Example:** Let's say I have 100 machines to test. The chances that one machine fails a routine diagnostic test is 0.01. (I'm aware this might not be very realistic) I will do this 1000 times and display the distribution of my results. "
   ]
  },
  {
   "cell_type": "code",
   "execution_count": 50,
   "metadata": {},
   "outputs": [
    {
     "data": {
      "image/png": "[encoded data removed]",
      "text/plain": [
       "<Figure size 432x288 with 1 Axes>"
      ]
     },
     "metadata": {},
     "output_type": "display_data"
    }
   ],
   "source": [
    "p_bin = np.random.binomial(100, 0.01, 1000)\n",
    "sns.distplot(p_bin, kde=True, \n",
    "             color = 'mediumseagreen', \n",
    "             hist_kws={'edgecolor':'black'},\n",
    "             kde_kws={'linewidth': 4});\n",
    "\n",
    "#Reference for formatting: https://towardsdatascience.com/histograms-and-density-plots-in-python-f6bda88f5ac0"
   ]
  },
  {
   "cell_type": "markdown",
   "metadata": {},
   "source": [
    "Firstly, I can never get a negative result as by design the smallest number of failing machines must be 0. Secondly, most of my results are skewed towards 0, with the majority of my success (or machine fails, in this case) between 0 and 4. After this the probability of success gets extremely small and seems to tail off. \n",
    "\n",
    "This is an approximation of the Poisson distribution. "
   ]
  },
  {
   "cell_type": "markdown",
   "metadata": {},
   "source": [
    "### Poisson Distribution"
   ]
  },
  {
   "cell_type": "markdown",
   "metadata": {},
   "source": [
    "The Poisson distribution represents the frequency or the probability of events happening in a fixed interval of time. It is an appropriate model if the following assumptions are true:\n",
    "- The number of times an event occurs is a positive integer, and so my data must be discrete.\n",
    "- Events occur independently, so the occurance of one event does not affect the probability of another event.\n",
    "- The rate at which events occur is constant. \n",
    "- Two events cannot occur at the same instant\n",
    "\n",
    "The Poisson distribution was first used to model the number of deaths by horse kicking in the Prussian army. It's more recently been used to model ocurrances such as car accidents, cancer diagnoses, phone calls to a particular building or sales."
   ]
  },
  {
   "cell_type": "markdown",
   "metadata": {},
   "source": [
    "**Example:** The average number of homes sold by a real estate company is 2 homes per day. I can use the no.random.poisson to generate random data modelling this event."
   ]
  },
  {
   "cell_type": "code",
   "execution_count": 51,
   "metadata": {},
   "outputs": [
    {
     "data": {
      "image/png": "[encoded data removed]",
      "text/plain": [
       "<Figure size 432x288 with 1 Axes>"
      ]
     },
     "metadata": {},
     "output_type": "display_data"
    }
   ],
   "source": [
    "p = np.random.poisson(lam = 2, size = 52*7)\n",
    "sns.distplot(p, kde=True, \n",
    "             color = 'darkmagenta',\n",
    "             kde_kws={'linewidth':4},\n",
    "             hist_kws={'edgecolor':'black'});"
   ]
  },
  {
   "cell_type": "markdown",
   "metadata": {},
   "source": [
    "This isn't a very good representation of my data set as I should have a gap between the bins at 0 and at 1. Let's print the data just to confirm it is discrete."
   ]
  },
  {
   "cell_type": "code",
   "execution_count": 52,
   "metadata": {},
   "outputs": [
    {
     "name": "stdout",
     "output_type": "stream",
     "text": [
      "[2 1 1 0 1 0 1 1 5 3 2 1 1 1 1 4 3 3 1 4 1 3 3 1 4 0 5 3 1 1 3 2 3 2 2 1 2\n",
      " 0 2 3 1 2 0 1 3 3 1 1 0 1 1 1 1 1 2 4 2 1 1 1 3 5 1 1 1 1 2 2 2 0 0 2 1 2\n",
      " 0 4 0 1 3 4 1 1 4 3 3 1 2 2 1 2 1 0 3 2 3 3 1 1 1 0 3 4 2 2 3 0 1 1 2 1 1\n",
      " 2 1 0 3 3 2 3 4 0 0 2 0 6 0 1 2 1 5 2 2 5 3 3 3 4 7 1 1 2 0 0 2 3 1 1 1 1\n",
      " 1 1 2 4 0 0 4 2 3 2 2 2 2 1 3 3 1 2 2 0 2 5 2 3 0 1 1 5 2 3 0 2 0 4 2 1 2\n",
      " 1 2 2 2 1 3 3 1 1 2 2 2 3 4 2 2 1 1 5 2 2 2 0 2 1 1 7 0 1 2 3 0 2 3 2 1 4\n",
      " 2 1 2 1 1 2 0 3 1 1 2 1 3 1 5 2 2 0 2 4 2 2 3 6 2 1 3 0 2 0 1 5 6 0 3 3 0\n",
      " 3 2 1 0 1 2 3 1 3 1 1 3 0 3 3 5 3 2 4 5 3 3 2 1 2 0 1 3 1 2 0 4 1 0 4 2 3\n",
      " 3 5 2 2 3 0 5 1 3 3 2 3 4 1 1 1 2 0 4 4 2 2 1 1 0 1 2 1 4 2 3 1 2 1 3 3 2\n",
      " 2 3 4 5 3 0 1 1 3 2 3 3 2 0 0 0 2 1 1 0 1 5 4 2 3 5 3 4 3 2 2]\n"
     ]
    }
   ],
   "source": [
    "print(p)"
   ]
  },
  {
   "cell_type": "markdown",
   "metadata": {},
   "source": [
    "That looks correct. \n",
    "\n",
    "I know that the events in a Poisson experiment should have the same mean and variance. Let's check that those to values are similar for this sample set, p. "
   ]
  },
  {
   "cell_type": "code",
   "execution_count": 53,
   "metadata": {},
   "outputs": [
    {
     "data": {
      "text/plain": [
       "1.9862637362637363"
      ]
     },
     "execution_count": 53,
     "metadata": {},
     "output_type": "execute_result"
    }
   ],
   "source": [
    "np.mean(p)"
   ]
  },
  {
   "cell_type": "code",
   "execution_count": 54,
   "metadata": {},
   "outputs": [
    {
     "data": {
      "text/plain": [
       "1.9805805458277987"
      ]
     },
     "execution_count": 54,
     "metadata": {},
     "output_type": "execute_result"
    }
   ],
   "source": [
    "np.var(p)"
   ]
  },
  {
   "cell_type": "markdown",
   "metadata": {},
   "source": [
    "So even though my grahical representation looks a little wrong, the data fits the Poisson distribution. If I increase the size of my sample, to simulate house sales at this company in a 10 year period, I get a better visualisation of this distribution, and the mean and variance are closer to the same value."
   ]
  },
  {
   "cell_type": "code",
   "execution_count": 55,
   "metadata": {},
   "outputs": [
    {
     "data": {
      "image/png": "[encoded data removed]",
      "text/plain": [
       "<Figure size 432x288 with 1 Axes>"
      ]
     },
     "metadata": {},
     "output_type": "display_data"
    }
   ],
   "source": [
    "poi = np.random.poisson(lam = 2, size = 52*7*10)\n",
    "sns.distplot(poi, kde=True, \n",
    "             color = 'darkmagenta', \n",
    "             hist_kws={'edgecolor':'black'},\n",
    "             kde_kws={'linewidth': 4});"
   ]
  },
  {
   "cell_type": "code",
   "execution_count": 56,
   "metadata": {},
   "outputs": [
    {
     "data": {
      "text/plain": [
       "1.9596153846153845"
      ]
     },
     "execution_count": 56,
     "metadata": {},
     "output_type": "execute_result"
    }
   ],
   "source": [
    "np.mean(poi)"
   ]
  },
  {
   "cell_type": "code",
   "execution_count": 57,
   "metadata": {},
   "outputs": [
    {
     "data": {
      "text/plain": [
       "1.969522928994083"
      ]
     },
     "execution_count": 57,
     "metadata": {},
     "output_type": "execute_result"
    }
   ],
   "source": [
    "np.var(poi)"
   ]
  },
  {
   "cell_type": "markdown",
   "metadata": {},
   "source": [
    "### Exponential Distribution"
   ]
  },
  {
   "cell_type": "markdown",
   "metadata": {},
   "source": [
    "The exponential distribution often models problems involving, how much time will elapse before an event occurs? As the exponential often, but not exclusively, deals with time intervals it's going to be a continuous distribution.\n",
    "\n",
    "np.random.exponential takes two parameters; scale and size. The scale parameter is the reciprocal of the  mean time between two events occuring, and the size is the number of samples to be taken from this distribution. "
   ]
  },
  {
   "cell_type": "markdown",
   "metadata": {},
   "source": [
    "**Example:** Suppose the average number of births in a maternity hospital is 1.8 per hour, and we want to look at the distribution of times between births. We can randomly generate a sample of 365 days, using Numpy's exponential function.\n",
    "\n",
    "1.8 is the mean or the rate parameter (lambda). So the scale parameter will be its reciprocal. "
   ]
  },
  {
   "cell_type": "code",
   "execution_count": 58,
   "metadata": {},
   "outputs": [
    {
     "data": {
      "image/png": "[encoded data removed]",
      "text/plain": [
       "<Figure size 432x288 with 1 Axes>"
      ]
     },
     "metadata": {},
     "output_type": "display_data"
    }
   ],
   "source": [
    "exp = np.random.exponential((1/1.8), 24*7*52)\n",
    "sns.distplot(exp, kde=True, \n",
    "             color = 'darkblue', \n",
    "             hist_kws={'edgecolor':'black'},\n",
    "             kde_kws={'linewidth': 4});"
   ]
  },
  {
   "cell_type": "markdown",
   "metadata": {},
   "source": [
    "In an exponential distribution the mean squared should equal the variance, and this sample does provide similar results for those measures. "
   ]
  },
  {
   "cell_type": "code",
   "execution_count": 59,
   "metadata": {},
   "outputs": [
    {
     "data": {
      "text/plain": [
       "0.3099594780205078"
      ]
     },
     "execution_count": 59,
     "metadata": {},
     "output_type": "execute_result"
    }
   ],
   "source": [
    "mean = np.mean(exp)\n",
    "mean**2"
   ]
  },
  {
   "cell_type": "code",
   "execution_count": 60,
   "metadata": {},
   "outputs": [
    {
     "data": {
      "text/plain": [
       "0.2999177153410331"
      ]
     },
     "execution_count": 60,
     "metadata": {},
     "output_type": "execute_result"
    }
   ],
   "source": [
    "np.var(exp)"
   ]
  },
  {
   "cell_type": "markdown",
   "metadata": {},
   "source": [
    "#### Relationship to the Poisson Distribution"
   ]
  },
  {
   "cell_type": "markdown",
   "metadata": {},
   "source": [
    "The time between occurances in a poisson distribution is an exponential distribution. This means that the Poisson distribution can simulate the number of births happening per hour over 365 days, at the same maternity hospital."
   ]
  },
  {
   "cell_type": "code",
   "execution_count": 61,
   "metadata": {},
   "outputs": [
    {
     "data": {
      "image/png": "[encoded data removed]",
      "text/plain": [
       "<Figure size 432x288 with 1 Axes>"
      ]
     },
     "metadata": {},
     "output_type": "display_data"
    }
   ],
   "source": [
    "p_births = np.random.poisson(1.8, 24*7*52)\n",
    "sns.distplot(p_births, kde=True, \n",
    "             color = 'darkblue', \n",
    "             hist_kws={'edgecolor':'black'},\n",
    "             kde_kws={'linewidth': 4});"
   ]
  },
  {
   "cell_type": "markdown",
   "metadata": {},
   "source": [
    "I know that the mean and variance in a Poisson distribution should be equal. So let's check if those results are similar in my sample. "
   ]
  },
  {
   "cell_type": "code",
   "execution_count": 62,
   "metadata": {},
   "outputs": [
    {
     "data": {
      "text/plain": [
       "1.808951465201465"
      ]
     },
     "execution_count": 62,
     "metadata": {},
     "output_type": "execute_result"
    }
   ],
   "source": [
    "np.mean(p_births)"
   ]
  },
  {
   "cell_type": "code",
   "execution_count": 63,
   "metadata": {},
   "outputs": [
    {
     "data": {
      "text/plain": [
       "1.7426900177908933"
      ]
     },
     "execution_count": 63,
     "metadata": {},
     "output_type": "execute_result"
    }
   ],
   "source": [
    "np.var(p_births)"
   ]
  },
  {
   "cell_type": "markdown",
   "metadata": {},
   "source": [
    "## Seeds and Pseudo-random Numbers"
   ]
  },
  {
   "cell_type": "markdown",
   "metadata": {},
   "source": [
    "The numbers generated by all of the functions above are pseudo random numbers. They appear to have been generated randomly but that is not the case."
   ]
  },
  {
   "cell_type": "markdown",
   "metadata": {},
   "source": [
    "All we need to reproduce a pseudo-random array of numbers is the original function and it's seed. The seed is essentially the place we choose to begin our random generator. In order to maintain a high degree of randomness, it is often generated from a system on your computer. If it always begins in the same place, then we are guaranteed the same outputs. So if we set the seed to be a particular number, we can reproduce the same array of pseudo-random numbers."
   ]
  },
  {
   "cell_type": "markdown",
   "metadata": {},
   "source": [
    "To set the seed, we call np.random.seed(), and input any integer between  $0$ and $2^{32} - 1$ as the parameter. It can also take arrays of similar integers. \n",
    "\n",
    "For the purposes of my investigation, I will set the seed to be $42$. It's a commonly used seed that appears to be a Hitchhikers Guide to the Galaxy reference. "
   ]
  },
  {
   "cell_type": "code",
   "execution_count": 64,
   "metadata": {},
   "outputs": [
    {
     "data": {
      "text/plain": [
       "array([3.74540119, 9.50714306, 7.31993942, 5.98658484, 1.5601864 ])"
      ]
     },
     "execution_count": 64,
     "metadata": {},
     "output_type": "execute_result"
    }
   ],
   "source": [
    "np.random.seed(42)\n",
    "np.random .uniform(0, 10, 5)"
   ]
  },
  {
   "cell_type": "markdown",
   "metadata": {},
   "source": [
    "So my seed is set, and I've outputted 5 random numbers. If I want to print the exact same output again, I first need to remind my machine of that seed. \n",
    "\n",
    "To do this we use the RandomState() class, and set the parameter to be the same as we previously had in the seed() function. \n",
    "\n",
    "_Note that in my libraries, I have already imported RandomState from np.random._"
   ]
  },
  {
   "cell_type": "markdown",
   "metadata": {},
   "source": [
    "Let's begin by outputting the same 5 random numbers between 0 and 10."
   ]
  },
  {
   "cell_type": "code",
   "execution_count": 65,
   "metadata": {},
   "outputs": [
    {
     "data": {
      "text/plain": [
       "array([3.74540119, 9.50714306, 7.31993942, 5.98658484, 1.5601864 ])"
      ]
     },
     "execution_count": 65,
     "metadata": {},
     "output_type": "execute_result"
    }
   ],
   "source": [
    "r = RandomState(42)\n",
    "r.uniform(0, 10, 5)"
   ]
  },
  {
   "cell_type": "markdown",
   "metadata": {},
   "source": [
    "I could also set the seed at the beginning of my code, and then refer back to it when I encounter arrays that I want to reproduce. For example, I can use randn() to generate 10 random numbers, after calling RandomState()"
   ]
  },
  {
   "cell_type": "code",
   "execution_count": 66,
   "metadata": {},
   "outputs": [
    {
     "data": {
      "text/plain": [
       "array([ 0.49671415, -0.1382643 ,  0.64768854,  1.52302986, -0.23415337,\n",
       "       -0.23413696,  1.57921282,  0.76743473, -0.46947439,  0.54256004])"
      ]
     },
     "execution_count": 66,
     "metadata": {},
     "output_type": "execute_result"
    }
   ],
   "source": [
    "r = RandomState(42)\n",
    "r.randn(10)"
   ]
  },
  {
   "cell_type": "markdown",
   "metadata": {},
   "source": [
    "And if I repeat this, further along in my code, I will get the same output. "
   ]
  },
  {
   "cell_type": "code",
   "execution_count": 67,
   "metadata": {},
   "outputs": [
    {
     "data": {
      "text/plain": [
       "array([ 0.49671415, -0.1382643 ,  0.64768854,  1.52302986, -0.23415337,\n",
       "       -0.23413696,  1.57921282,  0.76743473, -0.46947439,  0.54256004])"
      ]
     },
     "execution_count": 67,
     "metadata": {},
     "output_type": "execute_result"
    }
   ],
   "source": [
    "r = RandomState(42)\n",
    "r.randn(10)"
   ]
  },
  {
   "cell_type": "markdown",
   "metadata": {},
   "source": [
    "## References"
   ]
  },
  {
   "cell_type": "markdown",
   "metadata": {},
   "source": [
    "**Library Documentation:**\n",
    "* [NumPy v1.15 Manual, Random sampling (numpy.random)](https://docs.scipy.org/doc/numpy-1.15.1/reference/routines.random.html)\n",
    "* [Seaborn: Statistical Data Visualisation Tutorial](https://seaborn.pydata.org/tutorial.html)\n",
    "* [Python 3 Documentation](https://docs.python.org/3/)\n",
    "* [LaTeX/Mathematics, Wikibooks](https://en.wikibooks.org/wiki/LaTeX/Mathematics)\n",
    " \n",
    "   \n",
    "**Stack Overflow:** \n",
    "* [Difference between np.random.seed and np.random.RandomState](https://stackoverflow.com/questions/22994423/difference-between-np-random-seed-and-np-random-randomstate)\n",
    "* [The usage of np.random.seed when we change its value [duplicate]](https://stackoverflow.com/questions/48887986/the-usage-of-np-random-seed-when-we-change-its-value)\n",
    "* [Random Seed: What does it do?](https://stackoverflow.com/questions/22639587/random-seed-what-does-it-do)\n",
    "* [Plot a bar graph from pandas dataframe](https://stackoverflow.com/questions/29498652/plot-bar-graph-from-pandas-dataframe)\n",
    "* [Getting random shuffle to work](https://stackoverflow.com/questions/47516428/cant-get-random-shuffle-to-work-python-random-shuffle)\n",
    "* [Shuffle vs. Permutation in NumPy](https://stackoverflow.com/questions/15474159/shuffle-vs-permute-numpy)\n",
    "\n",
    "**Other Resources**\n",
    "* [Travis Oliphant - Python's Role in Big Data Analytics: Past, Present, and Future(Video Lecture)](https://www.youtube.com/watch?v=18r346Tn768)\n",
    "* [Poisson Distribution](https://en.wikipedia.org/wiki/Poisson_distribution), Wikipedia page, acessed 5th November 2018. \n",
    "* [Probability Distribution](https://en.wikipedia.org/wiki/Probability_distribution#Discrete_probability_distribution), Wikipedia page, accessed 3rd November 2018. \n",
    "* [Exponential Distribution](https://en.wikipedia.org/wiki/Exponential_distribution), Wikipedia page, acessed 5th November 2018. \n",
    "* [6 Common Probability Distributions every data science professional should know](https://www.analyticsvidhya.com/blog/2017/09/6-probability-distributions-data-science/), accessed 3rd November 2018. \n",
    "* [Common Probability Distributions: The Data Scientist’s Crib Sheet](http://blog.cloudera.com/blog/2015/12/common-probability-distributions-the-data-scientists-crib-sheet/), accessed 3rd November 2018. \n",
    "* [Lecture 5 : The Poisson Distribution, Jonathan Marchini, November 10, 2008](http://www.stats.ox.ac.uk/~marchini/teaching/L5/L5.notes.pdf), accessed 5th November 2018.\n",
    "\n",
    "    \n",
    " "
   ]
  }
 ],
 "metadata": {
  "kernelspec": {
   "display_name": "Python 3",
   "language": "python",
   "name": "python3"
  },
  "language_info": {
   "codemirror_mode": {
    "name": "ipython",
    "version": 3
   },
   "file_extension": ".py",
   "mimetype": "text/x-python",
   "name": "python",
   "nbconvert_exporter": "python",
   "pygments_lexer": "ipython3",
   "version": "3.6.5"
  }
 },
 "nbformat": 4,
 "nbformat_minor": 2
}
