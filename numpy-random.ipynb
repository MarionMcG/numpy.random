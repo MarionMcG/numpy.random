{
 "cells": [
  {
   "cell_type": "markdown",
   "metadata": {},
   "source": [
    "# Investigating Numpy.random"
   ]
  },
  {
   "cell_type": "markdown",
   "metadata": {},
   "source": [
    "## About the package"
   ]
  },
  {
   "cell_type": "markdown",
   "metadata": {},
   "source": [
    "<img src=\"http://www.numpy.org/_static/numpy_logo.png\" width = '400'>"
   ]
  },
  {
   "cell_type": "markdown",
   "metadata": {},
   "source": [
    "## Simple Random Data "
   ]
  },
  {
   "cell_type": "code",
   "execution_count": 42,
   "metadata": {
    "scrolled": true
   },
   "outputs": [],
   "source": [
    "import numpy as np\n",
    "import matplotlib.pyplot as plt\n",
    "import seaborn as sns\n",
    "import scipy.stats as stats"
   ]
  },
  {
   "cell_type": "markdown",
   "metadata": {},
   "source": [
    "### Rand()"
   ]
  },
  {
   "cell_type": "markdown",
   "metadata": {},
   "source": [
    "The Rand function returns random samples from a uniform distrubution"
   ]
  },
  {
   "cell_type": "code",
   "execution_count": 43,
   "metadata": {
    "scrolled": true
   },
   "outputs": [
    {
     "name": "stdout",
     "output_type": "stream",
     "text": [
      "[0.53189467 0.01658218]\n"
     ]
    }
   ],
   "source": [
    "y = np.random.rand(2)\n",
    "print(y)"
   ]
  },
  {
   "cell_type": "code",
   "execution_count": 44,
   "metadata": {
    "scrolled": true
   },
   "outputs": [
    {
     "data": {
      "image/png": "[encoded data removed]",
      "text/plain": [
       "<Figure size 432x288 with 1 Axes>"
      ]
     },
     "metadata": {},
     "output_type": "display_data"
    }
   ],
   "source": [
    "y = np.random.rand(100000)\n",
    "sns.set_style('whitegrid')\n",
    "plt.hist(y)\n",
    "plt.show()"
   ]
  },
  {
   "cell_type": "markdown",
   "metadata": {},
   "source": [
    "As you can see from the histogram of 100,000 random generated samples, this function returns a value between zero and one.\n",
    "\n",
    "**Negative dimensions are not allowed.** So np.random.rand(-10) would give an error, as it's impossible to list a negative number of samples. "
   ]
  },
  {
   "cell_type": "markdown",
   "metadata": {},
   "source": [
    "### Randn()\n",
    "\n",
    "The Randn function, gives you a random number from the standard normal distribution, with mean zero and standard deviation 1. So by the Empirical Rule, we can expect to find 99.7% of data between - 3 and +3, as shown below. "
   ]
  },
  {
   "cell_type": "code",
   "execution_count": 45,
   "metadata": {
    "scrolled": true
   },
   "outputs": [
    {
     "name": "stderr",
     "output_type": "stream",
     "text": [
      "C:\\ProgramData\\Anaconda3\\lib\\site-packages\\matplotlib\\axes\\_axes.py:6462: UserWarning: The 'normed' kwarg is deprecated, and has been replaced by the 'density' kwarg.\n",
      "  warnings.warn(\"The 'normed' kwarg is deprecated, and has been \"\n"
     ]
    },
    {
     "data": {
      "image/png": "[encoded data removed]",
      "text/plain": [
       "<Figure size 432x288 with 1 Axes>"
      ]
     },
     "metadata": {},
     "output_type": "display_data"
    }
   ],
   "source": [
    "import pandas\n",
    "\n",
    "#First let's plot this as a histogram, with x axis from - 5 to 5\n",
    "x = np.random.randn(10000)\n",
    "sns.set_style('whitegrid')\n",
    "sns.distplot(x, bins = 10)\n",
    "plt.show()"
   ]
  },
  {
   "cell_type": "markdown",
   "metadata": {},
   "source": [
    "This data seems to fit what we had been expecting from the Empirical Rule. "
   ]
  },
  {
   "cell_type": "markdown",
   "metadata": {},
   "source": [
    "### Randint()"
   ]
  },
  {
   "cell_type": "markdown",
   "metadata": {},
   "source": [
    "This function returns random integers from the Uniform Distribution. This distribution is sometimes referred to as the regtangular distribution, and results when every value in the range has equal probability of been chosen. When using Randint(), you set a low to high interval, from which randomly generated numbers are chosen. You also set size equal to the number of random integers you want from within that range. If you don't include size, then only one random integer is chosen.\n"
   ]
  },
  {
   "cell_type": "markdown",
   "metadata": {},
   "source": [
    "**Examples:** Using randint() to generate one whole number between two values. \n",
    "\n",
    "1. Here, randint() will return a number between 2 and 100. It may return the integer 2, but it will never return 100. "
   ]
  },
  {
   "cell_type": "code",
   "execution_count": 46,
   "metadata": {},
   "outputs": [
    {
     "data": {
      "text/plain": [
       "34"
      ]
     },
     "execution_count": 46,
     "metadata": {},
     "output_type": "execute_result"
    }
   ],
   "source": [
    "np.random.randint(2, 100)"
   ]
  },
  {
   "cell_type": "markdown",
   "metadata": {},
   "source": [
    "2. In my second example randint() will return a negative number between - 100 and 0. It will never return 0, but may return - 100."
   ]
  },
  {
   "cell_type": "code",
   "execution_count": 47,
   "metadata": {},
   "outputs": [
    {
     "data": {
      "text/plain": [
       "-24"
      ]
     },
     "execution_count": 47,
     "metadata": {},
     "output_type": "execute_result"
    }
   ],
   "source": [
    "np.random.randint(-100, 0)"
   ]
  },
  {
   "cell_type": "markdown",
   "metadata": {},
   "source": [
    "    Note: This function will only work when the smallest number comes first. For example if you were to call np.rand.randint(100, 2), you would receive an error. "
   ]
  },
  {
   "cell_type": "markdown",
   "metadata": {},
   "source": [
    "\n",
    "4. Below a set of 2000 random integers are been generated. As I have only set one value, this function takes that value to be the high value, and generates numbers in the range 0 to high. Here my high is 30, so my generated set, contains 2000 numbers between 0 and 29 inclusive."
   ]
  },
  {
   "cell_type": "code",
   "execution_count": 48,
   "metadata": {},
   "outputs": [
    {
     "data": {
      "image/png": "[encoded data removed]",
      "text/plain": [
       "<Figure size 432x288 with 1 Axes>"
      ]
     },
     "metadata": {},
     "output_type": "display_data"
    }
   ],
   "source": [
    "rand_int= np.random.randint(30, size = 2000)\n",
    "sns.set_style('whitegrid')\n",
    "plt.xticks(range(0, 31, 5))\n",
    "plt.yticks(range(0, 250, 50))\n",
    "plt.hist(rand_int)\n",
    "plt.show()"
   ]
  },
  {
   "cell_type": "raw",
   "metadata": {},
   "source": []
  },
  {
   "cell_type": "code",
   "execution_count": null,
   "metadata": {},
   "outputs": [],
   "source": []
  },
  {
   "cell_type": "markdown",
   "metadata": {},
   "source": [
    "## Permutations"
   ]
  },
  {
   "cell_type": "markdown",
   "metadata": {},
   "source": [
    "### Shuffle"
   ]
  },
  {
   "cell_type": "code",
   "execution_count": 49,
   "metadata": {},
   "outputs": [
    {
     "name": "stdout",
     "output_type": "stream",
     "text": [
      "A:        [0 1 2 3 4 5 6 7 8 9]\n",
      "Shuffle:  [4 5 6 8 3 0 9 1 2 7]\n"
     ]
    }
   ],
   "source": [
    "a = np.arange(10)\n",
    "print('A:       ', a)\n",
    "np.random.shuffle(a)\n",
    "print('Shuffle: ', a)"
   ]
  },
  {
   "cell_type": "markdown",
   "metadata": {},
   "source": [
    "### Permuations\n"
   ]
  },
  {
   "cell_type": "code",
   "execution_count": 50,
   "metadata": {},
   "outputs": [
    {
     "name": "stdout",
     "output_type": "stream",
     "text": [
      "Permutate:  [4 5 6 8 3 0 9 1 2 7]\n"
     ]
    }
   ],
   "source": [
    "np.random.permutation(a)\n",
    "print('Permutate: ', a)"
   ]
  },
  {
   "cell_type": "markdown",
   "metadata": {},
   "source": [
    "## Distributions"
   ]
  },
  {
   "cell_type": "markdown",
   "metadata": {},
   "source": [
    "### Uniform Distribution"
   ]
  },
  {
   "cell_type": "markdown",
   "metadata": {},
   "source": [
    "Using np.random.uniform, returns a float number between a low and high range. You can set size equal to a number, to return that many randomly generated values. Similar to the randint() function, your size cannot be a negative dimension or you receive an error. \n",
    "\n",
    "But in contrast to the randint() function, it is not necessary to call the low value first. \n",
    "\n",
    "**For example** np.random.uniform(30, 1) and np.random.uniform(1, 30) will both return a value between 1 and 30. "
   ]
  },
  {
   "cell_type": "code",
   "execution_count": 51,
   "metadata": {},
   "outputs": [
    {
     "name": "stdout",
     "output_type": "stream",
     "text": [
      "3.746023936570154\n",
      "19.990976187912246\n"
     ]
    }
   ],
   "source": [
    "t = np.random.uniform(30, 1)\n",
    "print(t)\n",
    "t = np.random.uniform(1,30)\n",
    "print(t)"
   ]
  },
  {
   "cell_type": "markdown",
   "metadata": {},
   "source": [
    "Example 1: Let's begin by generating a random list of 40 numbers between 0 and 20. \n",
    "\n",
    "As the default low value is already zero, I only need to set my high value as 20, and specify size 40."
   ]
  },
  {
   "cell_type": "code",
   "execution_count": 52,
   "metadata": {
    "scrolled": true
   },
   "outputs": [
    {
     "name": "stdout",
     "output_type": "stream",
     "text": [
      "[14.157  6.769  7.216  3.722  5.792  2.971 19.629 13.226 13.604  2.541\n",
      " 11.043  7.451 18.002 16.495  9.647 10.488  4.761 12.013  2.525 17.004\n",
      " 11.964  1.527  5.08  11.361 14.901  6.622  1.984 18.501  8.261 15.427\n",
      " 16.823 15.544 18.971 17.003 17.777  1.392 12.507  1.285 14.365 16.742]\n"
     ]
    }
   ],
   "source": [
    "uni=np.random.uniform(20, size =40)\n",
    "uni=np.around(uni, decimals=3)\n",
    "print(uni)"
   ]
  },
  {
   "cell_type": "markdown",
   "metadata": {},
   "source": [
    "Example 2: Generate 10 numbers between 300 and 600."
   ]
  },
  {
   "cell_type": "code",
   "execution_count": 53,
   "metadata": {},
   "outputs": [
    {
     "name": "stdout",
     "output_type": "stream",
     "text": [
      "[534.52865244 507.97183767 519.31418436 415.65053852 596.35623629\n",
      " 326.26327923 363.69872464 592.89532272 433.17518378 594.95760897]\n"
     ]
    }
   ],
   "source": [
    "uni_sample=np.random.uniform(300, 600, size=10)\n",
    "print(uni_sample)"
   ]
  },
  {
   "cell_type": "markdown",
   "metadata": {},
   "source": [
    "Plotting these values on a histogram, it's very likely that my distribution will not appear Uniform. This is due to the fact I have a very small set with only 10 samples. "
   ]
  },
  {
   "cell_type": "code",
   "execution_count": 54,
   "metadata": {},
   "outputs": [
    {
     "data": {
      "image/png": "[encoded data removed]",
      "text/plain": [
       "<Figure size 432x288 with 1 Axes>"
      ]
     },
     "metadata": {},
     "output_type": "display_data"
    }
   ],
   "source": [
    "plt.hist(uni_sample)\n",
    "sns.set_style('whitegrid')\n",
    "plt.show()"
   ]
  },
  {
   "cell_type": "markdown",
   "metadata": {},
   "source": [
    "So increasing the size of our set to 4000 values, instead of 10, should give us a better indication of the distribution of data that this function generates"
   ]
  },
  {
   "cell_type": "code",
   "execution_count": 55,
   "metadata": {},
   "outputs": [
    {
     "data": {
      "image/png": "[encoded data removed]",
      "text/plain": [
       "<Figure size 432x288 with 1 Axes>"
      ]
     },
     "metadata": {},
     "output_type": "display_data"
    }
   ],
   "source": [
    "uni_sample=(np.random.uniform(300, 600, size= 4000))\n",
    "sns.set_style('whitegrid')\n",
    "plt.hist(uni_sample)\n",
    "plt.show()"
   ]
  },
  {
   "cell_type": "markdown",
   "metadata": {},
   "source": [
    "This function generates a float number between two values, and as I have set my values to be integers, there is an infinite number of possibile outcomes. The uniform function returns an even spread of values in the low to high interval, but the histogram above should not be taken to imply that even value between 300 and 600 is represented."
   ]
  },
  {
   "cell_type": "markdown",
   "metadata": {},
   "source": [
    "### Binomial Distribution"
   ]
  },
  {
   "cell_type": "markdown",
   "metadata": {},
   "source": [
    "The Binomial Distribution in probability is the distribution of successes in  Binomial or Bernoulli trial. \n",
    "\n",
    "In a Bernoulli trial\n",
    "* There are n independent trials\n",
    "* Each trial has only two possible outcomes, ie Heads or Tails, Pass or Fail\n",
    "* The probability of success is the same in each trial, and is denoted with the letter p\n",
    "\n",
    "So the random.binomial() function takes the same parameters and can be used to simulate probability experiments."
   ]
  },
  {
   "cell_type": "markdown",
   "metadata": {},
   "source": [
    "### Flipping a Coin\n",
    "\n",
    "If you flip a coin you can get either heads or tails, and each has a 50% chance of success. Let's say that I flip a coin 100 times, and I want to get heads. The binomial() function can simulate that experiment. "
   ]
  },
  {
   "cell_type": "code",
   "execution_count": 56,
   "metadata": {
    "scrolled": true
   },
   "outputs": [
    {
     "name": "stdout",
     "output_type": "stream",
     "text": [
      "I got 53 heads, and 47 tails in 100 trials\n"
     ]
    }
   ],
   "source": [
    "heads = np.random.binomial(100, 0.5, 1)\n",
    "print('I got %.0f heads, and %.0f tails in 100 trials' % (sum(heads), 100 - sum(heads)))"
   ]
  },
  {
   "cell_type": "markdown",
   "metadata": {},
   "source": [
    "Now what if I have 30 people all doing the same experiment. \n",
    "\n",
    "30 people each flip a coin 100 times and record their results, then we'd have 3000 flips of a coin. Our experimental probability should be even closer to our expected probability with that many trials. So let's run that simulation and see what we get."
   ]
  },
  {
   "cell_type": "code",
   "execution_count": 57,
   "metadata": {},
   "outputs": [
    {
     "name": "stdout",
     "output_type": "stream",
     "text": [
      "We get 1474 heads, and 1526 tails in 3000 trials\n"
     ]
    }
   ],
   "source": [
    "new_heads = np.random.binomial(100, 0.5, 30)\n",
    "print('We get %.0f heads, and %.0f tails in 3000 trials' % (sum(new_heads), 30*100 - sum(new_heads)))"
   ]
  },
  {
   "cell_type": "markdown",
   "metadata": {},
   "source": [
    "Plotting the data from my 30 helpers, shows that there are no outliers with most getting between 40 and 60 heads when they flipped the coin"
   ]
  },
  {
   "cell_type": "code",
   "execution_count": 58,
   "metadata": {},
   "outputs": [
    {
     "data": {
      "image/png": "[encoded data removed]",
      "text/plain": [
       "<Figure size 432x288 with 1 Axes>"
      ]
     },
     "metadata": {},
     "output_type": "display_data"
    }
   ],
   "source": [
    "plt.plot(new_heads, 'ko')\n",
    "plt.xticks(range(0, 35, 5))\n",
    "plt.yticks(range(0, 101, 10))\n",
    "plt.show()"
   ]
  },
  {
   "cell_type": "markdown",
   "metadata": {},
   "source": [
    "### Normal Distribution"
   ]
  },
  {
   "cell_type": "markdown",
   "metadata": {},
   "source": [
    "A Normal Distribution is symmetrical about the mean of the set of data. \n",
    "\n",
    "To generate a random number that fits a set of normally distributed data points, you need to know both the mean and the standard deviation. The Empirical Rule states that 68% of data is within one standard deviation of the mean, but 99.7% of data is found with in three standard deviations of the mean, as shown below.\n",
    "\n",
    "\n",
    "<img src=\"http://upload.wikimedia.org/wikipedia/commons/thumb/2/22/Empirical_rule_histogram.svg/1106px-Empirical_rule_histogram.svg.png\" width = '400'>\n",
    "\n",
    "Therefore when we randomly generate number that fit a normal distrbution we can expect to get a distribution like the one above. \n",
    "\n",
    "If I was to randomly generate a number from a normally distributed set, with mean 32 and standard deviation 5, I would most likely get a value between 22 and 42, as 95% of data is within two standard deviation of the mean."
   ]
  },
  {
   "cell_type": "code",
   "execution_count": 60,
   "metadata": {},
   "outputs": [
    {
     "data": {
      "text/plain": [
       "28.034"
      ]
     },
     "execution_count": 60,
     "metadata": {},
     "output_type": "execute_result"
    }
   ],
   "source": [
    "# Generating a random number, with mean 32 and st.dev. 5\n",
    "norm_x = np.around(np.random.normal(32, 5), decimals = 3)\n",
    "norm_x\n"
   ]
  },
  {
   "cell_type": "markdown",
   "metadata": {},
   "source": [
    "To generate a set of values which follow the normal distribution, numpy.random provide two different functions; the standard_normal() and normal() functions.\n",
    "\n",
    "Standard_normal() returns a number(s) which fit the standard normal distribution, where the mean is 0 and standard deviation is 1. As the mean and deviation are set by default, the only parameter to be entered is the number of values we want to generate. Here, I have generated a standard normal set with 1000 values"
   ]
  },
  {
   "cell_type": "code",
   "execution_count": 40,
   "metadata": {},
   "outputs": [
    {
     "data": {
      "image/png": "[encoded data removed]",
      "text/plain": [
       "<Figure size 432x288 with 1 Axes>"
      ]
     },
     "metadata": {},
     "output_type": "display_data"
    }
   ],
   "source": [
    "st_norm = np.random.standard_normal(1000)\n",
    "plt.hist(st_norm, bins = 30)\n",
    "sns.set_style('whitegrid')\n",
    "plt.show()"
   ]
  },
  {
   "cell_type": "markdown",
   "metadata": {},
   "source": [
    "Normal() also generates a set which fits the normal distribution, but the mean and st.deviation are parameters of the function. So you can generate data for any mean and standard deviation easily. \n",
    "\n",
    "Below I have generated 100 values, that model normally distributed data with mean 32, and standard deviation 5. "
   ]
  },
  {
   "cell_type": "code",
   "execution_count": 63,
   "metadata": {
    "scrolled": true
   },
   "outputs": [
    {
     "data": {
      "image/png": "[encoded data removed]",
      "text/plain": [
       "<Figure size 432x288 with 1 Axes>"
      ]
     },
     "metadata": {},
     "output_type": "display_data"
    }
   ],
   "source": [
    "norm= np.random.normal(32, 5, 1000)\n",
    "plt.hist(norm, bins=30)\n",
    "sns.set_style('whitegrid')\n",
    "plt.show()\n"
   ]
  },
  {
   "cell_type": "markdown",
   "metadata": {},
   "source": [
    "### Four"
   ]
  },
  {
   "cell_type": "code",
   "execution_count": null,
   "metadata": {
    "scrolled": true
   },
   "outputs": [],
   "source": []
  },
  {
   "cell_type": "markdown",
   "metadata": {},
   "source": [
    "### FIve"
   ]
  },
  {
   "cell_type": "code",
   "execution_count": null,
   "metadata": {
    "scrolled": true
   },
   "outputs": [],
   "source": []
  },
  {
   "cell_type": "markdown",
   "metadata": {},
   "source": [
    "## Seeds and Pseudo-random Numbers"
   ]
  },
  {
   "cell_type": "code",
   "execution_count": null,
   "metadata": {
    "scrolled": true
   },
   "outputs": [],
   "source": []
  },
  {
   "cell_type": "markdown",
   "metadata": {},
   "source": [
    "## References"
   ]
  },
  {
   "cell_type": "markdown",
   "metadata": {},
   "source": [
    "* [NumPy v1.15 Manual, Random sampling (numpy.random)](https://docs.scipy.org/doc/numpy-1.15.1/reference/routines.random.html)"
   ]
  },
  {
   "cell_type": "code",
   "execution_count": null,
   "metadata": {
    "scrolled": true
   },
   "outputs": [],
   "source": []
  }
 ],
 "metadata": {
  "kernelspec": {
   "display_name": "Python 3",
   "language": "python",
   "name": "python3"
  },
  "language_info": {
   "codemirror_mode": {
    "name": "ipython",
    "version": 3
   },
   "file_extension": ".py",
   "mimetype": "text/x-python",
   "name": "python",
   "nbconvert_exporter": "python",
   "pygments_lexer": "ipython3",
   "version": "3.6.5"
  }
 },
 "nbformat": 4,
 "nbformat_minor": 2
}
